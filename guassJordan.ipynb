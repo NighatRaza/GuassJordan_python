{
 "cells": [
  {
   "cell_type": "code",
   "execution_count": 1,
   "id": "7279087a",
   "metadata": {},
   "outputs": [],
   "source": [
    "def inputMatrix():\n",
    "    global m\n",
    "    global rows\n",
    "    global cols\n",
    "    rows = int(input('enter no. of rows: '))\n",
    "    cols = int(input('enter no. of cols: '))\n",
    "    m=[] \n",
    "    for i in range(rows):\n",
    "        f=[]\n",
    "        x = input('enter no.s row wise ').split()\n",
    "        for j in x:\n",
    "            f.append(int(j))\n",
    "        if len(f)!=cols: \n",
    "            print('matrix must be rectangular!')\n",
    "            break\n",
    "        m.append(f)"
   ]
  },
  {
   "cell_type": "code",
   "execution_count": 2,
   "id": "b2102108",
   "metadata": {},
   "outputs": [],
   "source": [
    "def displayMatrix(m):\n",
    "    print('x2\\tRHS\\tx3\\tx1')\n",
    "    for r in range(rows):\n",
    "        for c in range(cols):\n",
    "            print(\"{:.2f}\".format(m[r][c]),end='\\t')\n",
    "        print()"
   ]
  },
  {
   "cell_type": "code",
   "execution_count": 3,
   "id": "9924d255",
   "metadata": {},
   "outputs": [],
   "source": [
    "def answer(): \n",
    "    p=[]\n",
    "    for i in range(cols):\n",
    "        if i!=1:\n",
    "            for j in range(rows):\n",
    "                if int(m[j][i])==1:\n",
    "                    p.append(m[j][1])\n",
    "    for ans in range(len(p)):\n",
    "        print('{:.2f}'.format(p[ans]))"
   ]
  },
  {
   "cell_type": "code",
   "execution_count": 4,
   "id": "a6b8b13f",
   "metadata": {},
   "outputs": [
    {
     "name": "stdout",
     "output_type": "stream",
     "text": [
      "enter no. of rows: 3\n",
      "enter no. of cols: 4\n",
      "enter no.s row wise 2 30 5 1\n",
      "enter no.s row wise 1 10 1 3\n",
      "enter no.s row wise 5 21 2 1\n",
      "x2\tRHS\tx3\tx1\n",
      "2.00\t30.00\t5.00\t1.00\t\n",
      "1.00\t10.00\t1.00\t3.00\t\n",
      "5.00\t21.00\t2.00\t1.00\t\n",
      "enter pivot row 0\n",
      "enter pivot column 2\n",
      "x2\tRHS\tx3\tx1\n",
      "0.40\t6.00\t1.00\t0.20\t\n",
      "0.60\t4.00\t0.00\t3.00\t\n",
      "4.20\t9.00\t0.00\t1.00\t\n",
      "enter pivot row 2\n",
      "enter pivot column 0\n",
      "x2\tRHS\tx3\tx1\n",
      "0.00\t6.00\t1.00\t0.20\t\n",
      "0.00\t4.00\t0.00\t3.00\t\n",
      "1.00\t2.14\t0.00\t0.24\t\n",
      "enter pivot row 1\n",
      "enter pivot column 3\n",
      "x2\tRHS\tx3\tx1\n",
      "0.00\t5.73\t1.00\t0.00\t\n",
      "0.00\t1.33\t0.00\t1.00\t\n",
      "1.00\t1.83\t0.00\t0.00\t\n",
      "values of x1, x2 and x3 are:\n",
      "1.83\n",
      "5.73\n",
      "1.33\n"
     ]
    }
   ],
   "source": [
    "# final\n",
    "# m = [[2,30,5,1],[1,10,1,3],[5,21,2,1]]\n",
    "inputMatrix()\n",
    "displayMatrix(m)\n",
    "n=1\n",
    "while n<=rows:\n",
    "    # selecting pivot value\n",
    "    pr = int(input('enter pivot row '))\n",
    "    pc = int(input('enter pivot column '))\n",
    "    pv = m[pr][pc]\n",
    "    \n",
    "    # making pivot value equal to one\n",
    "    for c in range(cols):\n",
    "        m[pr][c] = m[pr][c]/pv\n",
    "        \n",
    "    # making pivot column equal to zero\n",
    "    for r in range(rows):\n",
    "        if r==pr: continue\n",
    "        for c in range(cols):\n",
    "            m[r][c] = m[r][c]-(m[r][pc] * m[pr][c])\n",
    "    \n",
    "    \n",
    "    n+=1\n",
    "    displayMatrix(m)\n",
    "print('values of x1, x2 and x3 are:')\n",
    "answer()"
   ]
  },
  {
   "cell_type": "code",
   "execution_count": null,
   "id": "67cd04d0",
   "metadata": {},
   "outputs": [],
   "source": []
  },
  {
   "cell_type": "code",
   "execution_count": null,
   "id": "c5fd04b5",
   "metadata": {},
   "outputs": [],
   "source": []
  },
  {
   "cell_type": "code",
   "execution_count": null,
   "id": "d3ccdc6d",
   "metadata": {},
   "outputs": [],
   "source": []
  },
  {
   "cell_type": "code",
   "execution_count": null,
   "id": "bbd0eb4a",
   "metadata": {},
   "outputs": [],
   "source": [
    "# AUTOMATED"
   ]
  },
  {
   "cell_type": "code",
   "execution_count": 10,
   "id": "dc2fb917",
   "metadata": {},
   "outputs": [],
   "source": [
    "# final automated\n",
    "\n",
    "def inputMatrix():\n",
    "    global m, rows,cols;\n",
    "    rows = int(input('enter no. of rows: '))\n",
    "    cols = int(input('enter no. of cols: '))\n",
    "    m=[] \n",
    "    for i in range(rows):\n",
    "        f=[]\n",
    "        x = input('enter no.s row wise ').split()\n",
    "        for j in x:\n",
    "            f.append(int(j))\n",
    "        if len(f)!=cols: \n",
    "            print('matrix must be rectangular!')\n",
    "            break\n",
    "        m.append(f)"
   ]
  },
  {
   "cell_type": "code",
   "execution_count": 11,
   "id": "eb4772f9",
   "metadata": {},
   "outputs": [],
   "source": [
    "# final automated\n",
    "\n",
    "def displayMatrix(m):\n",
    "    print('x1\\tx2\\tx3\\tRHS')\n",
    "    for r in range(rows):\n",
    "        for c in range(cols):\n",
    "            print(\"{:.2f}\".format(m[r][c]),end='\\t')\n",
    "        print()"
   ]
  },
  {
   "cell_type": "code",
   "execution_count": 12,
   "id": "40e85ecc",
   "metadata": {},
   "outputs": [],
   "source": [
    "# final automated\n",
    "\n",
    "def pivotValue(): \n",
    "    global pr,pc,pv;\n",
    "    big=0\n",
    "    for r in range(rows):\n",
    "        for c in range(cols):\n",
    "            if m[r][c]>big and c!=cols-1:\n",
    "                big=m[r][c]\n",
    "                pr = r\n",
    "                pc = c\n",
    "                pv = m[pr][pc]\n",
    "    print('pivot value:','{:.2f}'.format(pv))"
   ]
  },
  {
   "cell_type": "code",
   "execution_count": 13,
   "id": "740e5cd8",
   "metadata": {},
   "outputs": [],
   "source": [
    "# final automated\n",
    "\n",
    "def answer(): \n",
    "    p=[]\n",
    "    for i in range(cols):\n",
    "        if i!=cols-1:\n",
    "            for j in range(rows):\n",
    "                if int(m[j][i])==1:\n",
    "                    p.append(m[j][cols-1])\n",
    "    for ans in range(len(p)):\n",
    "        print('{:.2f}'.format(p[ans]))"
   ]
  },
  {
   "cell_type": "code",
   "execution_count": 15,
   "id": "fc11225d",
   "metadata": {},
   "outputs": [
    {
     "name": "stdout",
     "output_type": "stream",
     "text": [
      "enter no. of rows: 3\n",
      "enter no. of cols: 4\n",
      "enter no.s row wise 3 1 1 10\n",
      "enter no.s row wise 1 5 2 21\n",
      "enter no.s row wise 1 2 5 30\n",
      "x1\tx2\tx3\tRHS\n",
      "3.00\t1.00\t1.00\t10.00\t\n",
      "1.00\t5.00\t2.00\t21.00\t\n",
      "1.00\t2.00\t5.00\t30.00\t\n",
      "pivot value: 5.00\n",
      "x1\tx2\tx3\tRHS\n",
      "2.80\t0.00\t0.60\t5.80\t\n",
      "0.20\t1.00\t0.40\t4.20\t\n",
      "0.60\t0.00\t4.20\t21.60\t\n",
      "pivot value: 4.20\n",
      "x1\tx2\tx3\tRHS\n",
      "2.71\t0.00\t0.00\t2.71\t\n",
      "0.14\t1.00\t0.00\t2.14\t\n",
      "0.14\t0.00\t1.00\t5.14\t\n",
      "pivot value: 2.71\n",
      "x1\tx2\tx3\tRHS\n",
      "1.00\t0.00\t0.00\t1.00\t\n",
      "0.00\t1.00\t0.00\t2.00\t\n",
      "0.00\t0.00\t1.00\t5.00\t\n",
      "values of x1, x2 and x3 are:\n",
      "1.00\n",
      "2.00\n",
      "5.00\n"
     ]
    }
   ],
   "source": [
    "# final automated\n",
    "\n",
    "# m = [[3,1,1,10],[1,5,2,21],[1,2,5,30]]\n",
    "inputMatrix()\n",
    "displayMatrix(m)\n",
    "n=1\n",
    "\n",
    "while n<=rows:\n",
    "    \n",
    "    # selecting pivot value\n",
    "    pivotValue()\n",
    "    \n",
    "    # making pivot value equal to one\n",
    "    for c in range(cols):\n",
    "        m[pr][c] = m[pr][c]/pv\n",
    "        \n",
    "    # making pivot column equal to zero\n",
    "    for r in range(rows):\n",
    "        if r==pr: continue\n",
    "        mzero = m[r][pc]\n",
    "        for c in range(cols):\n",
    "            m[r][c] = m[r][c]-(mzero * m[pr][c])\n",
    "    \n",
    "    \n",
    "    n+=1\n",
    "    displayMatrix(m)\n",
    "print('values of x1, x2 and x3 are:')\n",
    "answer()"
   ]
  },
  {
   "cell_type": "code",
   "execution_count": null,
   "id": "ab7009a7",
   "metadata": {},
   "outputs": [],
   "source": []
  },
  {
   "cell_type": "code",
   "execution_count": null,
   "id": "9c5ae90b",
   "metadata": {},
   "outputs": [],
   "source": []
  },
  {
   "cell_type": "code",
   "execution_count": null,
   "id": "61481a41",
   "metadata": {},
   "outputs": [],
   "source": []
  },
  {
   "cell_type": "code",
   "execution_count": 43,
   "id": "dbcc5081",
   "metadata": {},
   "outputs": [],
   "source": []
  },
  {
   "cell_type": "code",
   "execution_count": null,
   "id": "b2baef87",
   "metadata": {},
   "outputs": [],
   "source": []
  },
  {
   "cell_type": "code",
   "execution_count": 1,
   "id": "e1eb0d2b",
   "metadata": {},
   "outputs": [],
   "source": []
  },
  {
   "cell_type": "code",
   "execution_count": null,
   "id": "4c913fd8",
   "metadata": {},
   "outputs": [],
   "source": []
  },
  {
   "cell_type": "code",
   "execution_count": null,
   "id": "48cf2ef2",
   "metadata": {},
   "outputs": [],
   "source": []
  },
  {
   "cell_type": "code",
   "execution_count": null,
   "id": "c6931241",
   "metadata": {},
   "outputs": [],
   "source": []
  }
 ],
 "metadata": {
  "kernelspec": {
   "display_name": "Python 3",
   "language": "python",
   "name": "python3"
  },
  "language_info": {
   "codemirror_mode": {
    "name": "ipython",
    "version": 3
   },
   "file_extension": ".py",
   "mimetype": "text/x-python",
   "name": "python",
   "nbconvert_exporter": "python",
   "pygments_lexer": "ipython3",
   "version": "3.8.8"
  }
 },
 "nbformat": 4,
 "nbformat_minor": 5
}
